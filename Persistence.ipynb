{
 "cells": [
  {
   "cell_type": "code",
   "execution_count": 9,
   "metadata": {},
   "outputs": [
    {
     "data": {
      "text/plain": [
       "11"
      ]
     },
     "execution_count": 9,
     "metadata": {},
     "output_type": "execute_result"
    }
   ],
   "source": [
    "def persistence(num):\n",
    "    if num < 10:\n",
    "        return 0\n",
    "\n",
    "    product = 1\n",
    "    n = num\n",
    "    while n > 0:\n",
    "        product *= (n % 10)\n",
    "        n //= 10\n",
    "    return 1 + persistence(product)\n",
    "\n",
    "persistence(277777788888899)"
   ]
  },
  {
   "cell_type": "code",
   "execution_count": 10,
   "metadata": {},
   "outputs": [
    {
     "data": {
      "text/plain": [
       "0"
      ]
     },
     "execution_count": 10,
     "metadata": {},
     "output_type": "execute_result"
    }
   ],
   "source": [
    "def root(num):\n",
    "    if num < 10:\n",
    "        return num\n",
    "\n",
    "    product = 1\n",
    "    n = num\n",
    "    while n > 0:\n",
    "        product *= (n % 10)\n",
    "        n //= 10\n",
    "    return root(product)\n",
    "\n",
    "root(277777788888899)"
   ]
  },
  {
   "cell_type": "code",
   "execution_count": 11,
   "metadata": {},
   "outputs": [
    {
     "data": {
      "text/plain": [
       "[277777788888899,\n",
       " 4996238671872,\n",
       " 438939648,\n",
       " 4478976,\n",
       " 338688,\n",
       " 27648,\n",
       " 2688,\n",
       " 768,\n",
       " 336,\n",
       " 54,\n",
       " 20,\n",
       " 0]"
      ]
     },
     "execution_count": 11,
     "metadata": {},
     "output_type": "execute_result"
    }
   ],
   "source": [
    "def chain(num):\n",
    "    if num < 10:\n",
    "        return [num]\n",
    "\n",
    "    product = 1\n",
    "    n = num\n",
    "    while n > 0:\n",
    "        product *= (n % 10)\n",
    "        n //= 10\n",
    "    return [num] + chain(product)\n",
    "\n",
    "chain(277777788888899)"
   ]
  },
  {
   "cell_type": "code",
   "execution_count": 12,
   "metadata": {},
   "outputs": [
    {
     "name": "stdout",
     "output_type": "stream",
     "text": [
      "2222222222222222222222222333333333333333333333333333333333333333333333333333333333333333333333333333333333333333333333333333333333333333333333333333333333333333333333333333333333333333333333333333333333333333333333333333333333333333333333333333333333337777777777777777777777777777\n"
     ]
    },
    {
     "data": {
      "text/plain": [
       "[2222222222222222222222222333333333333333333333333333333333333333333333333333333333333333333333333333333333333333333333333333333333333333333333333333333333333333333333333333333333333333333333333333333333333333333333333333333333333333333333333333333333337777777777777777777777777777,\n",
       " 31262221321885653647626425815737111943458241183262682285162767533715254994149452428386848427865279586287233185834769954797571297422117699584,\n",
       " 76808693128119267033875814999785684601158714617949194290904883527680000000000000000,\n",
       " 0]"
      ]
     },
     "execution_count": 12,
     "metadata": {},
     "output_type": "execute_result"
    }
   ],
   "source": [
    "big = int('2' * 25 + '3' * 227 + '7' * 28)\n",
    "\n",
    "print(big)\n",
    "\n",
    "chain(big)"
   ]
  },
  {
   "cell_type": "code",
   "execution_count": 13,
   "metadata": {},
   "outputs": [
    {
     "name": "stdout",
     "output_type": "stream",
     "text": [
      "22222222233357\n"
     ]
    }
   ],
   "source": [
    "def normalize(num):\n",
    "    num = str(num)\n",
    "    num = num.replace('6', '23').replace('9', '33').replace('8', '222').replace('4', '22').replace('1', '')\n",
    "    num = sorted(num)\n",
    "    \n",
    "    return int(''.join(num))\n",
    "\n",
    "print(normalize(12764652183))"
   ]
  },
  {
   "cell_type": "code",
   "execution_count": 35,
   "metadata": {},
   "outputs": [
    {
     "name": "stdout",
     "output_type": "stream",
     "text": [
      "4 0 0\n",
      "2222\n",
      "3 1 0\n",
      "2223\n",
      "3 0 1\n",
      "2227\n",
      "2 2 0\n",
      "2233\n",
      "2 1 1\n",
      "2237\n",
      "2 0 2\n",
      "2277\n",
      "1 3 0\n",
      "2333\n",
      "1 2 1\n",
      "2337\n",
      "1 1 2\n",
      "2377\n",
      "1 0 3\n",
      "2777\n",
      "0 4 0\n",
      "3333\n",
      "0 3 1\n",
      "3337\n",
      "0 2 2\n",
      "3377\n",
      "0 1 3\n",
      "3777\n",
      "0 0 4\n",
      "7777\n"
     ]
    }
   ],
   "source": [
    "from itertools import product\n",
    "\n",
    "digits = 4\n",
    "for i in range(digits, -1, -1):\n",
    "    for k in range(digits - i + 1):\n",
    "        j = digits - (i + k)\n",
    "        print(i, j, k)\n",
    "        num = int('2' * i + '3' * j + '7' * k)\n",
    "        print(num)"
   ]
  },
  {
   "cell_type": "code",
   "execution_count": null,
   "metadata": {},
   "outputs": [],
   "source": []
  },
  {
   "cell_type": "code",
   "execution_count": null,
   "metadata": {},
   "outputs": [],
   "source": []
  },
  {
   "cell_type": "code",
   "execution_count": null,
   "metadata": {},
   "outputs": [],
   "source": []
  }
 ],
 "metadata": {
  "kernelspec": {
   "display_name": "Python 3",
   "language": "python",
   "name": "python3"
  },
  "language_info": {
   "codemirror_mode": {
    "name": "ipython",
    "version": 3
   },
   "file_extension": ".py",
   "mimetype": "text/x-python",
   "name": "python",
   "nbconvert_exporter": "python",
   "pygments_lexer": "ipython3",
   "version": "3.5.2"
  }
 },
 "nbformat": 4,
 "nbformat_minor": 2
}
